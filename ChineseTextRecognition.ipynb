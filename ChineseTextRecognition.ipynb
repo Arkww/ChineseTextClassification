{
 "cells": [
  {
   "cell_type": "code",
   "execution_count": null,
   "metadata": {},
   "outputs": [],
   "source": [
    "#Imports\n",
    "from datasets import load_dataset\n",
    "from transformers import BertTokenizer, BertForSequenceClassification\n",
    "import torch\n",
    "from torch.utils.data import random_split, DataLoader\n",
    "from transformers import AutoTokenizer\n",
    "from transformers import AutoTokenizer, BertForSequenceClassification, AdamW\n",
    "from torch.nn.functional import cross_entropy\n",
    "import torch\n",
    "import torch.nn as nn\n",
    "from transformers import AutoTokenizer, AutoModel\n",
    "from torch.utils.data import DataLoader, Dataset\n",
    "from torch.optim import AdamW\n",
    "import torch.nn.functional as F\n"
   ]
  },
  {
   "cell_type": "code",
   "execution_count": null,
   "metadata": {},
   "outputs": [],
   "source": [
    "# Chinese Web Text 2.0 Dataset from Hugging face\n",
    "ds = load_dataset(\"CASIA-LM/ChineseWebText2.0\")"
   ]
  },
  {
   "cell_type": "code",
   "execution_count": 3,
   "metadata": {},
   "outputs": [
    {
     "name": "stdout",
     "output_type": "stream",
     "text": [
      "{'text': '为了您的交易安全,建议您选择诚信商或供求商会员进行贸易为了您的交易安全,建议您选择诚信商或供求商会员进行贸易企业名称: 深圳市嘉应锡业制品厂 企业类型:个人独资企业 经营模式:生产/制造 所 在 地:广东 深圳市 联 系 人:刘明 发布日期:2006-11-11 9:50:51 有效期至:2006-12-11 9:51:001 :本产品不燃不爆 ,无毒 ,无刺激性气体.2 :焊后易清洗,可用水洗工艺.3 :可用于手浸,涂刷等焊接工艺.', 'domain': {'single_label': 'general', 'multi_label': ['general']}, 'toxicity': {'label': 0, 'score': 1.0167443178943358e-05}, 'quality_score': 0.218505859375}\n",
      "{'text': '广东省湛江市赤坎区人民法院民 事 裁 定 书(2018)粤0802民初3253号原告中国银行股份有限公司湛江分行,住所地:湛江市人民大道北71号.负责人盘仲廷,该分行行长.委托代理人杨国兴,男,广东东方昆仑律师事务所律师.委托代理人刘浩海,男,中国银行股份有限公司湛江分行员工.被告张捷军,男,1970年12月13日出生,汉族,住广东省湛江市霞山区,原告中国银行股份有限公司湛江分行诉被告张捷军金融借款合同纠纷一案,本院于2018年11月9日受理后,并于当天向原告送达了《预交受理费通知书》,明确告知其应于收到该通知书后7日内向本院预交案件受理费918.8元,但在该期限内原告未向本院预交上述费用,亦未向本院提交缓交申请.据此,依照《最高人民法院关于适用<中华人民共和国民事诉讼法>的解释》第二百一十三条之规定,裁定如下:本案按自动撤诉处理.审判员  杨莹莹二〇一八年十一月二十七日书记员  黄嘉慧', 'domain': {'single_label': 'law', 'multi_label': ['law']}, 'toxicity': {'label': 0, 'score': 2.043940003204625e-05}, 'quality_score': 0.98388671875}\n",
      "{'text': '法学院开展\"疫情中的热点法律问题研讨\"学术沙龙为加强学术氛围,探索教育发展,2022年4月20日法学院于人文楼会议室举办了第一期学术沙龙活动.本次学术沙龙以\"疫情中的热点法律问题研讨\"为主题,由董学智老师担任主持人,学院众多师生参与本次沙龙活动.的学术分享.他阐述了风险与法律系统的共构逻辑、风险概念进入法律的分析逻辑两部分内容,着重分析了法律以及法律理论现在能够为风险做什么的问题.郭浩老师阐明了风险社会语境下的分类与特征,并分享自己对风险的解读与反思.最后,参会老师们就风险主题进一步展开深入探讨并发表自我看法,加深了同学们对风险社会视域下的法概念再构建的理解.学术沙龙的第二议程,首先由林诚老师发言,他通过不同视角探究了新冠疫情相关保险法律问题.紧接着,龙俊老师详细剖析了疫情期间价格管制的规则体系、主要困境与完善方法.随后,陈天一同学侧重于解读刑事领域中的风险概念,分享自己对法概念再构建的思考;张来来同学从疫情防控中老年人买菜难的现实情况出发,探究数字弱势群体的法治保障问题;蔡淑帆同学借由上海哮喘老人救援不及时而病亡的热点事件,重点探讨院前急救中生命救助的法律问题.', 'domain': {'single_label': 'encyclopedia', 'multi_label': ['encyclopedia', 'education', 'dialogue']}, 'toxicity': {'label': 0, 'score': 1.3869972462998703e-05}, 'quality_score': 0.442626953125}\n",
      "{'text': '非承载式车身中的发动机、传动系统和车身等总成部件都是固定在底盘大梁架上的,车架则通过前后悬架装置与车轮连接,所以非承载式车身不具备灵活性,高速行驶时稳定性不高思文败类.质量大、高度高,发生碰撞时车架能够吸收大部分冲击力,能够给车身带来很强的保护作用;独立大梁使其拥有优秀的抗颠簸性能,所以很多硬派SUV用得比较多.承载式车身只是对车身各个方向做了加强,发动机、变速箱和悬架等部分装配在车身内陈怡真,所以承载式车身除了固有的乘载功能外,还要承受内部各个部件的负荷鬼娃新娘.整个车身为一体,公路行驶性能稳定恋曲哆来咪,噪音小、震动低比较舒适,虽然装配容易,但是制造成本高鲸刑.曹小小总体来说全城高考,非承载式车身是好几层的老外汉堡包,而承载式车身则是中国传统\"馅在内\"的中式包子超载乐队,是两种完全不同的概念浴血记者.所以在选购SUV时就不要再用这个标准去判断了,毕竟每一台车的用途都不同,注重城市代步、家用舒适的话,当然选择承载式车身的车型较好孙云玲,毕竟舒适性要比非承载式车身高.', 'domain': {'single_label': 'encyclopedia', 'multi_label': ['encyclopedia', 'news']}, 'toxicity': {'label': 0, 'score': 1.034192700899439e-05}, 'quality_score': 0.261474609375}\n",
      "{'text': '四、确认条件(一)不应通过国家中小学教师资格考试,笔试、试镜皆合格,取得《中小学教师资格考试合格证明》,且在有效期内.2011年及以前入学,在学期间因参军入伍(学校保有学籍)等原因,于2018年或2019年毕业的全日制普通高等学校师范类专业本(专)科毕业生可免试直接参与确认.(二)不应遵从宪法和法律,热衷教育事业,遵守《教师法》规定的义务,遵从教师职业道德.(三)不应不具备分担教育教学工作所必须的科学知识以及运用所学科学知识分析和解决问题教育教学实际问题的能力.(四)不应不具备《教师法》规定的适当学历.2019年申请人幼儿园教师资格的学历条件之后限制到我区全日制中等师范学校、中等职业学校和技工院校的学前教育(幼儿教育)专业毕业生,这部分人员必需是在教育厅和人力资源社会保障厅备案的人员,未备案的不予认定.(五)不应超过国家语言文字工作委员会施行的《普通话水平测试等级标准》二级乙等及以上标准.其中,申请人确认非语文学科教师资格者,申请人时其户籍或工作单位所在地在县级人民政府驻地以外乡镇、村的,其普通话水平可以为三级甲等.(六)按照《广西壮族自治区申请人确认教师资格人员体检标准及办法(全面推行)》,具备符合规定的专门从事教育教学工作的身体条件,在教师资格确认机构登录的医院身体检查合格.录:钟山县人民医院是本县确认人员身体检查登录医院,体检表需双面打印机.五、确认流程(一)网上申报.申请人人员在教师资格确认机构规定的甄选时间内登岸＂中国教师资格网＂(展开网上登记和填写申请人信息,自由选择＂教师资格确认申请人网报入口＂展开申报.5.普通话水平测试等级证书原件.6.《中小学教师资格考试合格证明》原件,也可获取打印机好的＂网页版＂考试合格证明.7.免冠彩色标准相片1张(小2吋,3.5×4.5cm,与网上申请人确认上载电子版相片完全相同);尤其解释:申请人在网上申报时,确认系统对学历、考试合格证明、普通话信息检验通过的,现场证实时则需要再行索取原件.申请人幼儿园、小学、初级中学教师资格的申请人,第一批递交材料时间为6月11—6月14日,第二批递交材料时间为7月1日—7月2日,逾期不递交材料的视作主动退出处置.材料递交地点:钟山县教育和科学技术局(原钟山县教育局)人事股教师培训中心办公室,地址:钟山镇兴钟南路17号.联系人:李玫,联系电话:0774—8988389.(四)其他事项.申请人确认高级中学教师资格、中等职业学校教师资格、中等职业学校进修指导教师资格人员请选择＂贺州市教育局＂为确认机构(明确参见贺教师范〔2019〕7号文).未尽事宜,请求与我局确认办公室联系,电话:0774-8988389.', 'domain': {'single_label': 'education', 'multi_label': ['education', 'technology']}, 'toxicity': {'label': 0, 'score': 2.035363831964787e-05}, 'quality_score': 0.9873046875}\n",
      "{'text': Value(dtype='string', id=None), 'domain': {'single_label': Value(dtype='string', id=None), 'multi_label': Sequence(feature=Value(dtype='string', id=None), length=-1, id=None)}, 'toxicity': {'label': Value(dtype='int64', id=None), 'score': Value(dtype='float64', id=None)}, 'quality_score': Value(dtype='float64', id=None)}\n",
      "2000\n"
     ]
    }
   ],
   "source": [
    "for i in range(5):\n",
    "    print(ds['test'][i])\n",
    "\n",
    "print(ds['test'].features)\n",
    "\n",
    "\n",
    "print(len(ds['test']))\n"
   ]
  },
  {
   "cell_type": "code",
   "execution_count": null,
   "metadata": {},
   "outputs": [
    {
     "name": "stdout",
     "output_type": "stream",
     "text": [
      "50\n",
      "13\n"
     ]
    }
   ],
   "source": [
    "learning_rate = 1e-4\n",
    "nepochs = 20\n",
    "batch_size = 32\n",
    "max_length = 128\n",
    "\n"
   ]
  },
  {
   "cell_type": "code",
   "execution_count": null,
   "metadata": {},
   "outputs": [
    {
     "name": "stdout",
     "output_type": "stream",
     "text": [
      "Tokens: ['今', '天', '天', '气', '很', '好']\n",
      "Token IDs: [791, 1921, 1921, 3698, 2523, 1962]\n"
     ]
    }
   ],
   "source": [
    "\n",
    "#Importing BERT chinese tokenizer\n",
    "tokenizer = AutoTokenizer.from_pretrained(\"bert-base-chinese\")\n",
    "text = \"今天天气很好\"\n",
    "tokens = tokenizer.tokenize(text)\n",
    "ids = tokenizer.convert_tokens_to_ids(tokens)\n",
    "\n",
    "print(\"Tokens:\", tokens)\n",
    "print(\"Token IDs:\", ids)\n",
    "\n",
    "\n",
    "def yield_tokens(data_loader):\n",
    "    for _, text in data_loader:\n",
    "        yield tokenizer(text)"
   ]
  },
  {
   "cell_type": "code",
   "execution_count": null,
   "metadata": {},
   "outputs": [
    {
     "name": "stdout",
     "output_type": "stream",
     "text": [
      "[0, 0, 1, 0, 0, 0, 0, 0, 1, 0, 0]\n"
     ]
    }
   ],
   "source": [
    "#The categories of the texts we wants to classify\n",
    "categories = [\"Book\", \"Dialogue\", \"Education\", \"Encyclopedia\", \"Law\", \"Math\", \"Medicine\", \"Finance\", \"News\", \"General\", \"Technology\"]\n",
    "\n",
    "def label_to_vector(labels, categories):\n",
    "    vector = [1 if label in labels else 0 for label in categories]\n",
    "    return vector\n",
    "\n",
    "multi_labels = [\"News\", \"Education\"]\n",
    "label_vector = label_to_vector(multi_labels, categories)\n",
    "print(label_vector) "
   ]
  },
  {
   "cell_type": "code",
   "execution_count": null,
   "metadata": {},
   "outputs": [],
   "source": [
    "\n",
    "# My model for classifying texts\n",
    "class CustomBERTClassifier(nn.Module):\n",
    "    def __init__(self, num_labels):\n",
    "        super(CustomBERTClassifier, self).__init__()\n",
    "        self.bert = AutoModel.from_pretrained(\"bert-base-chinese\")\n",
    "        self.fc1 = nn.Linear(768, 256)\n",
    "        self.fc2 = nn.Linear(256, num_labels)  \n",
    "        self.relu = nn.ReLU()\n",
    "        self.dropout = nn.Dropout(0.3)\n",
    "\n",
    "    def forward(self, input_ids, attention_mask):\n",
    "        output = self.bert(input_ids, attention_mask=attention_mask)\n",
    "        cls_embedding = output.last_hidden_state[:, 0, :]  \n",
    "        x = self.relu(self.fc1(cls_embedding))\n",
    "        x = self.dropout(x)\n",
    "        x = self.fc2(x)  \n",
    "        return x  "
   ]
  },
  {
   "cell_type": "code",
   "execution_count": 14,
   "metadata": {},
   "outputs": [
    {
     "data": {
      "application/vnd.jupyter.widget-view+json": {
       "model_id": "eec555721eeb430599d1a6f232c42d8e",
       "version_major": 2,
       "version_minor": 0
      },
      "text/plain": [
       "model.safetensors:   0%|          | 0.00/412M [00:00<?, ?B/s]"
      ]
     },
     "metadata": {},
     "output_type": "display_data"
    }
   ],
   "source": [
    "device = torch.device(\"cuda\" if torch.cuda.is_available() else \"cpu\")\n",
    "model = CustomBERTClassifier(num_labels=len(categories)).to(device)\n",
    "optimizer = AdamW(model.parameters(), lr=learning_rate)\n",
    "criterion = nn.BCEWithLogitsLoss()  \n"
   ]
  },
  {
   "cell_type": "code",
   "execution_count": null,
   "metadata": {},
   "outputs": [
    {
     "name": "stdout",
     "output_type": "stream",
     "text": [
      "50\n",
      "13\n"
     ]
    }
   ],
   "source": [
    "train_size = int(0.8 * len(ds['test'])) \n",
    "test_size = len(ds['test']) - train_size \n",
    " \n",
    "train_dataset, test_dataset = random_split(ds['test'], [train_size, test_size])\n",
    "\n",
    "def tokenize_and_pad(batch):\n",
    "    return tokenizer(batch['text'], padding=True, truncation=True, max_length=max_length, return_tensors=\"pt\")\n",
    "\n",
    "# Apply the tokenization to the dataset using DataLoader\n",
    "train_loader = DataLoader(train_dataset, batch_size=batch_size, shuffle=True, collate_fn=tokenize_and_pad)\n",
    "test_loader = DataLoader(test_dataset, batch_size=batch_size, shuffle=True, collate_fn=tokenize_and_pad)\n",
    "\n",
    "print(len(train_loader))\n",
    "print(len(test_loader))"
   ]
  },
  {
   "cell_type": "code",
   "execution_count": null,
   "metadata": {},
   "outputs": [
    {
     "ename": "TypeError",
     "evalue": "list indices must be integers or slices, not str",
     "output_type": "error",
     "traceback": [
      "\u001b[0;31m---------------------------------------------------------------------------\u001b[0m",
      "\u001b[0;31mTypeError\u001b[0m                                 Traceback (most recent call last)",
      "Cell \u001b[0;32mIn[19], line 7\u001b[0m\n\u001b[1;32m      4\u001b[0m total_predictions \u001b[38;5;241m=\u001b[39m \u001b[38;5;241m0\u001b[39m\n\u001b[1;32m      6\u001b[0m \u001b[38;5;28;01mwith\u001b[39;00m torch\u001b[38;5;241m.\u001b[39mno_grad():  \u001b[38;5;66;03m# Disable gradient computation for efficiency\u001b[39;00m\n\u001b[0;32m----> 7\u001b[0m     \u001b[38;5;28;01mfor\u001b[39;00m batch \u001b[38;5;129;01min\u001b[39;00m test_loader:\n\u001b[1;32m      8\u001b[0m         input_ids \u001b[38;5;241m=\u001b[39m batch[\u001b[38;5;124m\"\u001b[39m\u001b[38;5;124minput_ids\u001b[39m\u001b[38;5;124m\"\u001b[39m]\u001b[38;5;241m.\u001b[39mto(device)\n\u001b[1;32m      9\u001b[0m         attention_mask \u001b[38;5;241m=\u001b[39m batch[\u001b[38;5;124m\"\u001b[39m\u001b[38;5;124mattention_mask\u001b[39m\u001b[38;5;124m\"\u001b[39m]\u001b[38;5;241m.\u001b[39mto(device)\n",
      "File \u001b[0;32m~/.local/lib/python3.10/site-packages/torch/utils/data/dataloader.py:701\u001b[0m, in \u001b[0;36m_BaseDataLoaderIter.__next__\u001b[0;34m(self)\u001b[0m\n\u001b[1;32m    698\u001b[0m \u001b[38;5;28;01mif\u001b[39;00m \u001b[38;5;28mself\u001b[39m\u001b[38;5;241m.\u001b[39m_sampler_iter \u001b[38;5;129;01mis\u001b[39;00m \u001b[38;5;28;01mNone\u001b[39;00m:\n\u001b[1;32m    699\u001b[0m     \u001b[38;5;66;03m# TODO(https://github.com/pytorch/pytorch/issues/76750)\u001b[39;00m\n\u001b[1;32m    700\u001b[0m     \u001b[38;5;28mself\u001b[39m\u001b[38;5;241m.\u001b[39m_reset()  \u001b[38;5;66;03m# type: ignore[call-arg]\u001b[39;00m\n\u001b[0;32m--> 701\u001b[0m data \u001b[38;5;241m=\u001b[39m \u001b[38;5;28;43mself\u001b[39;49m\u001b[38;5;241;43m.\u001b[39;49m\u001b[43m_next_data\u001b[49m\u001b[43m(\u001b[49m\u001b[43m)\u001b[49m\n\u001b[1;32m    702\u001b[0m \u001b[38;5;28mself\u001b[39m\u001b[38;5;241m.\u001b[39m_num_yielded \u001b[38;5;241m+\u001b[39m\u001b[38;5;241m=\u001b[39m \u001b[38;5;241m1\u001b[39m\n\u001b[1;32m    703\u001b[0m \u001b[38;5;28;01mif\u001b[39;00m (\n\u001b[1;32m    704\u001b[0m     \u001b[38;5;28mself\u001b[39m\u001b[38;5;241m.\u001b[39m_dataset_kind \u001b[38;5;241m==\u001b[39m _DatasetKind\u001b[38;5;241m.\u001b[39mIterable\n\u001b[1;32m    705\u001b[0m     \u001b[38;5;129;01mand\u001b[39;00m \u001b[38;5;28mself\u001b[39m\u001b[38;5;241m.\u001b[39m_IterableDataset_len_called \u001b[38;5;129;01mis\u001b[39;00m \u001b[38;5;129;01mnot\u001b[39;00m \u001b[38;5;28;01mNone\u001b[39;00m\n\u001b[1;32m    706\u001b[0m     \u001b[38;5;129;01mand\u001b[39;00m \u001b[38;5;28mself\u001b[39m\u001b[38;5;241m.\u001b[39m_num_yielded \u001b[38;5;241m>\u001b[39m \u001b[38;5;28mself\u001b[39m\u001b[38;5;241m.\u001b[39m_IterableDataset_len_called\n\u001b[1;32m    707\u001b[0m ):\n",
      "File \u001b[0;32m~/.local/lib/python3.10/site-packages/torch/utils/data/dataloader.py:757\u001b[0m, in \u001b[0;36m_SingleProcessDataLoaderIter._next_data\u001b[0;34m(self)\u001b[0m\n\u001b[1;32m    755\u001b[0m \u001b[38;5;28;01mdef\u001b[39;00m \u001b[38;5;21m_next_data\u001b[39m(\u001b[38;5;28mself\u001b[39m):\n\u001b[1;32m    756\u001b[0m     index \u001b[38;5;241m=\u001b[39m \u001b[38;5;28mself\u001b[39m\u001b[38;5;241m.\u001b[39m_next_index()  \u001b[38;5;66;03m# may raise StopIteration\u001b[39;00m\n\u001b[0;32m--> 757\u001b[0m     data \u001b[38;5;241m=\u001b[39m \u001b[38;5;28;43mself\u001b[39;49m\u001b[38;5;241;43m.\u001b[39;49m\u001b[43m_dataset_fetcher\u001b[49m\u001b[38;5;241;43m.\u001b[39;49m\u001b[43mfetch\u001b[49m\u001b[43m(\u001b[49m\u001b[43mindex\u001b[49m\u001b[43m)\u001b[49m  \u001b[38;5;66;03m# may raise StopIteration\u001b[39;00m\n\u001b[1;32m    758\u001b[0m     \u001b[38;5;28;01mif\u001b[39;00m \u001b[38;5;28mself\u001b[39m\u001b[38;5;241m.\u001b[39m_pin_memory:\n\u001b[1;32m    759\u001b[0m         data \u001b[38;5;241m=\u001b[39m _utils\u001b[38;5;241m.\u001b[39mpin_memory\u001b[38;5;241m.\u001b[39mpin_memory(data, \u001b[38;5;28mself\u001b[39m\u001b[38;5;241m.\u001b[39m_pin_memory_device)\n",
      "File \u001b[0;32m~/.local/lib/python3.10/site-packages/torch/utils/data/_utils/fetch.py:55\u001b[0m, in \u001b[0;36m_MapDatasetFetcher.fetch\u001b[0;34m(self, possibly_batched_index)\u001b[0m\n\u001b[1;32m     53\u001b[0m \u001b[38;5;28;01melse\u001b[39;00m:\n\u001b[1;32m     54\u001b[0m     data \u001b[38;5;241m=\u001b[39m \u001b[38;5;28mself\u001b[39m\u001b[38;5;241m.\u001b[39mdataset[possibly_batched_index]\n\u001b[0;32m---> 55\u001b[0m \u001b[38;5;28;01mreturn\u001b[39;00m \u001b[38;5;28;43mself\u001b[39;49m\u001b[38;5;241;43m.\u001b[39;49m\u001b[43mcollate_fn\u001b[49m\u001b[43m(\u001b[49m\u001b[43mdata\u001b[49m\u001b[43m)\u001b[49m\n",
      "Cell \u001b[0;32mIn[17], line 9\u001b[0m, in \u001b[0;36mtokenize_and_pad\u001b[0;34m(batch)\u001b[0m\n\u001b[1;32m      8\u001b[0m \u001b[38;5;28;01mdef\u001b[39;00m \u001b[38;5;21mtokenize_and_pad\u001b[39m(batch):\n\u001b[0;32m----> 9\u001b[0m     \u001b[38;5;28;01mreturn\u001b[39;00m tokenizer(\u001b[43mbatch\u001b[49m\u001b[43m[\u001b[49m\u001b[38;5;124;43m'\u001b[39;49m\u001b[38;5;124;43mtext\u001b[39;49m\u001b[38;5;124;43m'\u001b[39;49m\u001b[43m]\u001b[49m, padding\u001b[38;5;241m=\u001b[39m\u001b[38;5;28;01mTrue\u001b[39;00m, truncation\u001b[38;5;241m=\u001b[39m\u001b[38;5;28;01mTrue\u001b[39;00m, max_length\u001b[38;5;241m=\u001b[39mmax_length, return_tensors\u001b[38;5;241m=\u001b[39m\u001b[38;5;124m\"\u001b[39m\u001b[38;5;124mpt\u001b[39m\u001b[38;5;124m\"\u001b[39m)\n",
      "\u001b[0;31mTypeError\u001b[0m: list indices must be integers or slices, not str"
     ]
    }
   ],
   "source": [
    "model.eval() \n",
    "test_loss = 0.0\n",
    "correct_predictions = 0\n",
    "total_predictions = 0\n",
    "\n",
    "with torch.no_grad():  \n",
    "    for batch in test_loader:\n",
    "        input_ids = batch[\"input_ids\"].to(device)\n",
    "        attention_mask = batch[\"attention_mask\"].to(device)\n",
    "        labels = batch[\"labels\"].to(device)\n",
    "        \n",
    "       \n",
    "        outputs = model(input_ids=input_ids, attention_mask=attention_mask, labels=labels)\n",
    "        loss = outputs.loss\n",
    "        logits = outputs.logits\n",
    "        \n",
    "        test_loss += loss.item()\n",
    "        \n",
    "        \n",
    "        _, predicted = torch.max(logits, dim=1)\n",
    "        correct_predictions += (predicted == labels).sum().item()\n",
    "        total_predictions += labels.size(0)\n",
    "\n",
    "avg_test_loss = test_loss / len(test_loader)\n",
    "test_accuracy = correct_predictions / total_predictions * 100\n",
    "\n",
    "print(f\"Test Loss: {avg_test_loss:.4f}, Test Accuracy: {test_accuracy:.2f}%\")"
   ]
  },
  {
   "cell_type": "code",
   "execution_count": null,
   "metadata": {},
   "outputs": [],
   "source": [
    "# Évaluation\n",
    "model.eval()\n",
    "correct = 0\n",
    "total = 0\n",
    "\n",
    "with torch.no_grad():\n",
    "    for batch in test_loader:\n",
    "        input_ids = batch[\"input_ids\"].to(device)\n",
    "        attention_mask = batch[\"attention_mask\"].to(device)\n",
    "        labels = batch[\"label\"].to(device)\n",
    "\n",
    "        outputs = model(input_ids, attention_mask=attention_mask)\n",
    "        correct += (outputs.logits.argmax(dim=1) == labels).sum().item()\n",
    "        total += labels.size(0)\n",
    "\n",
    "print(f\"Test Accuracy: {correct/total:.4f}\")\n"
   ]
  }
 ],
 "metadata": {
  "kernelspec": {
   "display_name": "Python 3",
   "language": "python",
   "name": "python3"
  },
  "language_info": {
   "codemirror_mode": {
    "name": "ipython",
    "version": 3
   },
   "file_extension": ".py",
   "mimetype": "text/x-python",
   "name": "python",
   "nbconvert_exporter": "python",
   "pygments_lexer": "ipython3",
   "version": "3.10.12"
  }
 },
 "nbformat": 4,
 "nbformat_minor": 2
}
