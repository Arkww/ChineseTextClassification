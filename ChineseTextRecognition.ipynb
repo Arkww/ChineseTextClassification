{
 "cells": [
  {
   "cell_type": "code",
   "execution_count": 1,
   "metadata": {},
   "outputs": [
    {
     "name": "stderr",
     "output_type": "stream",
     "text": [
      "C:\\Users\\mathi\\AppData\\Local\\Packages\\PythonSoftwareFoundation.Python.3.11_qbz5n2kfra8p0\\LocalCache\\local-packages\\Python311\\site-packages\\tqdm\\auto.py:21: TqdmWarning: IProgress not found. Please update jupyter and ipywidgets. See https://ipywidgets.readthedocs.io/en/stable/user_install.html\n",
      "  from .autonotebook import tqdm as notebook_tqdm\n"
     ]
    }
   ],
   "source": [
    "from sklearn.model_selection import train_test_split\n",
    "from sklearn.metrics import classification_report\n",
    "from datasets import load_dataset\n",
    "from transformers import BertTokenizer, BertForSequenceClassification\n",
    "from transformers import Trainer, TrainingArguments\n",
    "import torch"
   ]
  },
  {
   "cell_type": "code",
   "execution_count": 2,
   "metadata": {},
   "outputs": [],
   "source": [
    "ds = load_dataset(\"CASIA-LM/ChineseWebText2.0\")"
   ]
  },
  {
   "cell_type": "code",
   "execution_count": 3,
   "metadata": {},
   "outputs": [
    {
     "name": "stdout",
     "output_type": "stream",
     "text": [
      "{'text': '为了您的交易安全,建议您选择诚信商或供求商会员进行贸易为了您的交易安全,建议您选择诚信商或供求商会员进行贸易企业名称: 深圳市嘉应锡业制品厂 企业类型:个人独资企业 经营模式:生产/制造 所 在 地:广东 深圳市 联 系 人:刘明 发布日期:2006-11-11 9:50:51 有效期至:2006-12-11 9:51:001 :本产品不燃不爆 ,无毒 ,无刺激性气体.2 :焊后易清洗,可用水洗工艺.3 :可用于手浸,涂刷等焊接工艺.', 'domain': {'single_label': 'general', 'multi_label': ['general']}, 'toxicity': {'label': 0, 'score': 1.0167443178943358e-05}, 'quality_score': 0.218505859375}\n",
      "{'text': '广东省湛江市赤坎区人民法院民 事 裁 定 书(2018)粤0802民初3253号原告中国银行股份有限公司湛江分行,住所地:湛江市人民大道北71号.负责人盘仲廷,该分行行长.委托代理人杨国兴,男,广东东方昆仑律师事务所律师.委托代理人刘浩海,男,中国银行股份有限公司湛江分行员工.被告张捷军,男,1970年12月13日出生,汉族,住广东省湛江市霞山区,原告中国银行股份有限公司湛江分行诉被告张捷军金融借款合同纠纷一案,本院于2018年11月9日受理后,并于当天向原告送达了《预交受理费通知书》,明确告知其应于收到该通知书后7日内向本院预交案件受理费918.8元,但在该期限内原告未向本院预交上述费用,亦未向本院提交缓交申请.据此,依照《最高人民法院关于适用<中华人民共和国民事诉讼法>的解释》第二百一十三条之规定,裁定如下:本案按自动撤诉处理.审判员  杨莹莹二〇一八年十一月二十七日书记员  黄嘉慧', 'domain': {'single_label': 'law', 'multi_label': ['law']}, 'toxicity': {'label': 0, 'score': 2.043940003204625e-05}, 'quality_score': 0.98388671875}\n",
      "{'text': '法学院开展\"疫情中的热点法律问题研讨\"学术沙龙为加强学术氛围,探索教育发展,2022年4月20日法学院于人文楼会议室举办了第一期学术沙龙活动.本次学术沙龙以\"疫情中的热点法律问题研讨\"为主题,由董学智老师担任主持人,学院众多师生参与本次沙龙活动.的学术分享.他阐述了风险与法律系统的共构逻辑、风险概念进入法律的分析逻辑两部分内容,着重分析了法律以及法律理论现在能够为风险做什么的问题.郭浩老师阐明了风险社会语境下的分类与特征,并分享自己对风险的解读与反思.最后,参会老师们就风险主题进一步展开深入探讨并发表自我看法,加深了同学们对风险社会视域下的法概念再构建的理解.学术沙龙的第二议程,首先由林诚老师发言,他通过不同视角探究了新冠疫情相关保险法律问题.紧接着,龙俊老师详细剖析了疫情期间价格管制的规则体系、主要困境与完善方法.随后,陈天一同学侧重于解读刑事领域中的风险概念,分享自己对法概念再构建的思考;张来来同学从疫情防控中老年人买菜难的现实情况出发,探究数字弱势群体的法治保障问题;蔡淑帆同学借由上海哮喘老人救援不及时而病亡的热点事件,重点探讨院前急救中生命救助的法律问题.', 'domain': {'single_label': 'encyclopedia', 'multi_label': ['encyclopedia', 'education', 'dialogue']}, 'toxicity': {'label': 0, 'score': 1.3869972462998703e-05}, 'quality_score': 0.442626953125}\n",
      "{'text': '非承载式车身中的发动机、传动系统和车身等总成部件都是固定在底盘大梁架上的,车架则通过前后悬架装置与车轮连接,所以非承载式车身不具备灵活性,高速行驶时稳定性不高思文败类.质量大、高度高,发生碰撞时车架能够吸收大部分冲击力,能够给车身带来很强的保护作用;独立大梁使其拥有优秀的抗颠簸性能,所以很多硬派SUV用得比较多.承载式车身只是对车身各个方向做了加强,发动机、变速箱和悬架等部分装配在车身内陈怡真,所以承载式车身除了固有的乘载功能外,还要承受内部各个部件的负荷鬼娃新娘.整个车身为一体,公路行驶性能稳定恋曲哆来咪,噪音小、震动低比较舒适,虽然装配容易,但是制造成本高鲸刑.曹小小总体来说全城高考,非承载式车身是好几层的老外汉堡包,而承载式车身则是中国传统\"馅在内\"的中式包子超载乐队,是两种完全不同的概念浴血记者.所以在选购SUV时就不要再用这个标准去判断了,毕竟每一台车的用途都不同,注重城市代步、家用舒适的话,当然选择承载式车身的车型较好孙云玲,毕竟舒适性要比非承载式车身高.', 'domain': {'single_label': 'encyclopedia', 'multi_label': ['encyclopedia', 'news']}, 'toxicity': {'label': 0, 'score': 1.034192700899439e-05}, 'quality_score': 0.261474609375}\n",
      "{'text': '四、确认条件(一)不应通过国家中小学教师资格考试,笔试、试镜皆合格,取得《中小学教师资格考试合格证明》,且在有效期内.2011年及以前入学,在学期间因参军入伍(学校保有学籍)等原因,于2018年或2019年毕业的全日制普通高等学校师范类专业本(专)科毕业生可免试直接参与确认.(二)不应遵从宪法和法律,热衷教育事业,遵守《教师法》规定的义务,遵从教师职业道德.(三)不应不具备分担教育教学工作所必须的科学知识以及运用所学科学知识分析和解决问题教育教学实际问题的能力.(四)不应不具备《教师法》规定的适当学历.2019年申请人幼儿园教师资格的学历条件之后限制到我区全日制中等师范学校、中等职业学校和技工院校的学前教育(幼儿教育)专业毕业生,这部分人员必需是在教育厅和人力资源社会保障厅备案的人员,未备案的不予认定.(五)不应超过国家语言文字工作委员会施行的《普通话水平测试等级标准》二级乙等及以上标准.其中,申请人确认非语文学科教师资格者,申请人时其户籍或工作单位所在地在县级人民政府驻地以外乡镇、村的,其普通话水平可以为三级甲等.(六)按照《广西壮族自治区申请人确认教师资格人员体检标准及办法(全面推行)》,具备符合规定的专门从事教育教学工作的身体条件,在教师资格确认机构登录的医院身体检查合格.录:钟山县人民医院是本县确认人员身体检查登录医院,体检表需双面打印机.五、确认流程(一)网上申报.申请人人员在教师资格确认机构规定的甄选时间内登岸＂中国教师资格网＂(展开网上登记和填写申请人信息,自由选择＂教师资格确认申请人网报入口＂展开申报.5.普通话水平测试等级证书原件.6.《中小学教师资格考试合格证明》原件,也可获取打印机好的＂网页版＂考试合格证明.7.免冠彩色标准相片1张(小2吋,3.5×4.5cm,与网上申请人确认上载电子版相片完全相同);尤其解释:申请人在网上申报时,确认系统对学历、考试合格证明、普通话信息检验通过的,现场证实时则需要再行索取原件.申请人幼儿园、小学、初级中学教师资格的申请人,第一批递交材料时间为6月11—6月14日,第二批递交材料时间为7月1日—7月2日,逾期不递交材料的视作主动退出处置.材料递交地点:钟山县教育和科学技术局(原钟山县教育局)人事股教师培训中心办公室,地址:钟山镇兴钟南路17号.联系人:李玫,联系电话:0774—8988389.(四)其他事项.申请人确认高级中学教师资格、中等职业学校教师资格、中等职业学校进修指导教师资格人员请选择＂贺州市教育局＂为确认机构(明确参见贺教师范〔2019〕7号文).未尽事宜,请求与我局确认办公室联系,电话:0774-8988389.', 'domain': {'single_label': 'education', 'multi_label': ['education', 'technology']}, 'toxicity': {'label': 0, 'score': 2.035363831964787e-05}, 'quality_score': 0.9873046875}\n"
     ]
    }
   ],
   "source": [
    "for i in range(5):\n",
    "    print(ds['test'][i])\n"
   ]
  },
  {
   "cell_type": "code",
   "execution_count": null,
   "metadata": {},
   "outputs": [],
   "source": []
  }
 ],
 "metadata": {
  "kernelspec": {
   "display_name": "Python 3",
   "language": "python",
   "name": "python3"
  },
  "language_info": {
   "codemirror_mode": {
    "name": "ipython",
    "version": 3
   },
   "file_extension": ".py",
   "mimetype": "text/x-python",
   "name": "python",
   "nbconvert_exporter": "python",
   "pygments_lexer": "ipython3",
   "version": "3.11.9"
  }
 },
 "nbformat": 4,
 "nbformat_minor": 2
}
